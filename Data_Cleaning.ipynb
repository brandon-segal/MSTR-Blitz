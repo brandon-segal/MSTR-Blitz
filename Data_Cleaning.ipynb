{
 "cells": [
  {
   "cell_type": "markdown",
   "metadata": {},
   "source": [
    "# Working With Data "
   ]
  },
  {
   "cell_type": "markdown",
   "metadata": {},
   "source": [
    "Import all of our packages "
   ]
  },
  {
   "cell_type": "code",
   "execution_count": 164,
   "metadata": {},
   "outputs": [
    {
     "data": {
      "text/html": [
       "<script>requirejs.config({paths: { 'plotly': ['https://cdn.plot.ly/plotly-latest.min']},});if(!window.Plotly) {{require(['plotly'],function(plotly) {window.Plotly=plotly;});}}</script>"
      ],
      "text/vnd.plotly.v1+html": [
       "<script>requirejs.config({paths: { 'plotly': ['https://cdn.plot.ly/plotly-latest.min']},});if(!window.Plotly) {{require(['plotly'],function(plotly) {window.Plotly=plotly;});}}</script>"
      ]
     },
     "metadata": {},
     "output_type": "display_data"
    },
    {
     "name": "stdout",
     "output_type": "stream",
     "text": [
      "[nltk_data] Downloading package wordnet to\n",
      "[nltk_data]     C:\\Users\\brsegal\\AppData\\Roaming\\nltk_data...\n",
      "[nltk_data]   Unzipping corpora\\wordnet.zip.\n"
     ]
    },
    {
     "data": {
      "text/plain": [
       "True"
      ]
     },
     "execution_count": 164,
     "metadata": {},
     "output_type": "execute_result"
    }
   ],
   "source": [
    "import numpy as np\n",
    "import pandas as pd \n",
    "import matplotlib.pyplot as plt\n",
    "import nltk \n",
    "import plotly as py\n",
    "import plotly.graph_objs as go\n",
    "from functools import reduce\n",
    "py.offline.init_notebook_mode(connected=True)\n",
    "nltk.download('wordnet')"
   ]
  },
  {
   "cell_type": "code",
   "execution_count": 102,
   "metadata": {},
   "outputs": [],
   "source": [
    "loans = pd.read_csv('kiva_loans.csv')\n",
    "mpi_regions = pd.read_csv('kiva_mpi_region_locations.csv')\n",
    "MPI_subnational = pd.read_csv('MPI_subnational.csv')\n",
    "MPI_national = pd.read_csv('MPI_national.csv')"
   ]
  },
  {
   "cell_type": "code",
   "execution_count": 188,
   "metadata": {},
   "outputs": [],
   "source": [
    "uses = loans['use'].value_counts().head(2000)"
   ]
  },
  {
   "cell_type": "code",
   "execution_count": 104,
   "metadata": {},
   "outputs": [
    {
     "data": {
      "application/vnd.plotly.v1+json": {
       "data": [
        {
         "type": "bar",
         "uid": "4305bdb6-a71a-11e8-b33d-7c7635aa551d",
         "x": [
          "to buy a water filter to provide safe drinking water for their family.",
          "to buy a water filter to provide safe drinking water for her family.",
          "To buy a water filter to provide safe drinking water for their family.",
          "to build a sanitary toilet for her family.",
          "to build a sanitary toilet for her family",
          "to buy ingredients for her food production business",
          "to purchase more groceries to sell.",
          "to buy feed and other supplies to raise her pigs.",
          "to buy fertilizers and other farm supplies.",
          "to buy a water filter to provide safe drinking water for his family."
         ],
         "y": [
          5217,
          4082,
          2141,
          1708,
          1599,
          1419,
          1409,
          1405,
          1280,
          1261
         ]
        }
       ],
       "layout": {}
      },
      "text/html": [
       "<div id=\"93bc8ddc-d04f-4e30-a54c-a45a3a52918f\" style=\"height: 525px; width: 100%;\" class=\"plotly-graph-div\"></div><script type=\"text/javascript\">require([\"plotly\"], function(Plotly) { window.PLOTLYENV=window.PLOTLYENV || {};window.PLOTLYENV.BASE_URL=\"https://plot.ly\";Plotly.newPlot(\"93bc8ddc-d04f-4e30-a54c-a45a3a52918f\", [{\"x\": [\"to buy a water filter to provide safe drinking water for their family.\", \"to buy a water filter to provide safe drinking water for her family.\", \"To buy a water filter to provide safe drinking water for their family.\", \"to build a sanitary toilet for her family.\", \"to build a sanitary toilet for her family\", \"to buy ingredients for her food production business\", \"to purchase more groceries to sell.\", \"to buy feed and other supplies to raise her pigs.\", \"to buy fertilizers and other farm supplies.\", \"to buy a water filter to provide safe drinking water for his family.\"], \"y\": [5217.0, 4082.0, 2141.0, 1708.0, 1599.0, 1419.0, 1409.0, 1405.0, 1280.0, 1261.0], \"type\": \"bar\", \"uid\": \"430f03cc-a71a-11e8-acb1-7c7635aa551d\"}], {}, {\"showLink\": true, \"linkText\": \"Export to plot.ly\"})});</script>"
      ],
      "text/vnd.plotly.v1+html": [
       "<div id=\"93bc8ddc-d04f-4e30-a54c-a45a3a52918f\" style=\"height: 525px; width: 100%;\" class=\"plotly-graph-div\"></div><script type=\"text/javascript\">require([\"plotly\"], function(Plotly) { window.PLOTLYENV=window.PLOTLYENV || {};window.PLOTLYENV.BASE_URL=\"https://plot.ly\";Plotly.newPlot(\"93bc8ddc-d04f-4e30-a54c-a45a3a52918f\", [{\"x\": [\"to buy a water filter to provide safe drinking water for their family.\", \"to buy a water filter to provide safe drinking water for her family.\", \"To buy a water filter to provide safe drinking water for their family.\", \"to build a sanitary toilet for her family.\", \"to build a sanitary toilet for her family\", \"to buy ingredients for her food production business\", \"to purchase more groceries to sell.\", \"to buy feed and other supplies to raise her pigs.\", \"to buy fertilizers and other farm supplies.\", \"to buy a water filter to provide safe drinking water for his family.\"], \"y\": [5217.0, 4082.0, 2141.0, 1708.0, 1599.0, 1419.0, 1409.0, 1405.0, 1280.0, 1261.0], \"type\": \"bar\", \"uid\": \"430f03cc-a71a-11e8-acb1-7c7635aa551d\"}], {}, {\"showLink\": true, \"linkText\": \"Export to plot.ly\"})});</script>"
      ]
     },
     "metadata": {},
     "output_type": "display_data"
    }
   ],
   "source": [
    "data = [go.Bar(x=uses.index,\n",
    "            y=uses.values)]\n",
    "py.offline.offline.iplot(data)"
   ]
  },
  {
   "cell_type": "code",
   "execution_count": 180,
   "metadata": {},
   "outputs": [],
   "source": [
    "def get_term(document):\n",
    "    def normalise(word):\n",
    "        \"\"\"Normalises words to lowercase and stems and lemmatizes it.\"\"\"\n",
    "        word = word.lower()\n",
    "        # word = stemmer.stem_word(word) #if we consider stemmer then results comes with stemmed word, but in this case word will not match with comment\n",
    "        word = lemmatizer.lemmatize(word)\n",
    "        return word\n",
    "    def leaves(tree):\n",
    "        \"\"\"Finds NP (nounphrase) leaf nodes of a chunk tree.\"\"\"\n",
    "        for subtree in tree.subtrees(filter = lambda t: t.label()=='NP'):\n",
    "            yield subtree.leaves()\n",
    "    \n",
    "    lemmatizer = nltk.WordNetLemmatizer()\n",
    "    stemmer = nltk.stem.porter.PorterStemmer()\n",
    "    \n",
    "    sentences = nltk.sent_tokenize(document)\n",
    "    sentences = [nltk.word_tokenize(sent) for sent in sentences] \n",
    "    sentences = [nltk.pos_tag(sent) for sent in sentences]\n",
    "    sentences = reduce(lambda x,y: x+y,sentences)\n",
    "    grammar = r\"\"\"\n",
    "        NBAR:\n",
    "            {<NN.*|JJ>*<NN.*>}  # Nouns and Adjectives, terminated with Nouns\n",
    "\n",
    "        NP:\n",
    "            {<NBAR>}\n",
    "            {<NBAR><IN><NBAR>}  # Above, connected with in/of/etc...\n",
    "    \"\"\"\n",
    "    cp = nltk.RegexpParser(grammar) \n",
    "    tree = cp.parse(sentences)\n",
    "    for index,leaf in enumerate(leaves(tree)):\n",
    "        term = ' '.join([ normalise(w) for w,t in leaf])\n",
    "        if index==0:\n",
    "            return(term)\n",
    "        \n",
    "    "
   ]
  },
  {
   "cell_type": "code",
   "execution_count": 193,
   "metadata": {
    "scrolled": false
   },
   "outputs": [
    {
     "name": "stdout",
     "output_type": "stream",
     "text": [
      "[5217, 4082, 2141, 1708, 1599, 1419, 1409, 1405, 1280, 1261, 1154, 1027, 970, 888, 881, 877, 866, 843, 785, 760, 747, 688, 681, 667, 621, 604, 583, 579, 577, 572, 568, 562, 559, 547, 527, 501, 487, 486, 467, 456, 452, 450, 432, 432, 430, 420, 420, 419, 413, 406, 405, 398, 393, 389, 388, 385, 384, 381, 376, 375, 374, 373, 372, 365, 359, 357, 350, 345, 344, 343, 331, 325, 320, 320, 311, 309, 306, 304, 296, 286, 280, 278, 274, 274, 273, 272, 269, 265, 264, 262, 261, 259, 259, 258, 256, 254, 245, 244, 244, 237, 233, 232, 231, 230, 227, 225, 223, 219, 215, 215, 214, 214, 213, 212, 211, 210, 207, 207, 199, 199, 198, 197, 197, 197, 195, 193, 192, 191, 190, 190, 189, 188, 188, 187, 186, 186, 186, 185, 185, 184, 183, 183, 180, 179, 177, 176, 176, 173, 170, 170, 170, 170, 169, 168, 168, 167, 167, 167, 166, 165, 165, 165, 162, 162, 160, 160, 158, 158, 158, 157, 157, 155, 155, 154, 153, 152, 152, 152, 151, 151, 150, 150, 150, 149, 147, 146, 146, 145, 145, 145, 145, 144, 144, 144, 142, 141, 141, 141, 140, 139, 139, 139, 137, 136, 136, 136, 135, 134, 134, 133, 133, 133, 133, 132, 132, 132, 131, 131, 130, 130, 129, 129, 128, 128, 128, 128, 127, 127, 127, 127, 125, 125, 125, 125, 124, 124, 124, 124, 123, 123, 123, 122, 121, 121, 121, 118, 117, 116, 116, 116, 115, 114, 114, 114, 113, 112, 112, 112, 112, 112, 112, 111, 111, 111, 110, 109, 109, 109, 109, 109, 109, 108, 108, 108, 107, 107, 107, 106, 106, 106, 105, 105, 105, 105, 104, 104, 104, 103, 103, 103, 103, 103, 102, 102, 101, 101, 101, 101, 100, 100, 99, 99, 99, 98, 98, 98, 98, 97, 97, 96, 96, 96, 96, 96, 94, 94, 94, 94, 94, 94, 94, 94, 93, 93, 93, 92, 92, 92, 92, 91, 91, 91, 91, 91, 91, 91, 90, 90, 90, 90, 89, 89, 89, 89, 88, 88, 87, 87, 87, 87, 87, 86, 86, 86, 86, 86, 85, 85, 85, 85, 84, 84, 83, 83, 83, 83, 83, 82, 82, 81, 81, 81, 81, 79, 79, 79, 79, 79, 79, 79, 79, 79, 79, 78, 78, 78, 77, 77, 77, 77, 77, 77, 77, 77, 77, 77, 77, 76, 76, 76, 76, 76, 76, 75, 75, 75, 75, 74, 74, 74, 74, 74, 74, 73, 73, 73, 73, 72, 72, 72, 72, 72, 72, 71, 71, 71, 71, 71, 71, 70, 70, 70, 70, 70, 70, 70, 69, 69, 69, 69, 69, 69, 69, 69, 68, 68, 68, 68, 68, 67, 67, 67, 67, 67, 66, 66, 66, 66, 66, 65, 65, 65, 65, 65, 65, 64, 64, 64, 64, 64, 64, 64, 63, 63, 63, 63, 63, 63, 63, 63, 63, 62, 62, 62, 62, 62, 62, 62, 62, 61, 61, 61, 61, 61, 61, 61, 61, 61, 61, 61, 61, 61, 60, 60, 60, 60, 60, 60, 59, 59, 59, 59, 59, 59, 59, 59, 59, 59, 59, 58, 58, 58, 58, 58, 58, 58, 58, 58, 58, 58, 58, 58, 58, 58, 58, 58, 58, 57, 57, 57, 57, 57, 57, 57, 57, 57, 57, 57, 57, 57, 57, 57, 56, 56, 56, 56, 56, 56, 56, 56, 56, 56, 56, 55, 55, 55, 55, 55, 55, 55, 54, 54, 54, 54, 54, 54, 54, 54, 54, 54, 54, 54, 53, 53, 53, 53, 53, 53, 53, 53, 53, 53, 53, 52, 52, 52, 52, 52, 52, 52, 52, 52, 52, 52, 52, 52, 52, 52, 52, 52, 52, 52, 52, 52, 51, 51, 51, 51, 51, 51, 51, 51, 51, 51, 51, 51, 51, 51, 50, 50, 50, 50, 50, 50, 50, 50, 50, 50, 49, 49, 49, 49, 49, 49, 49, 49, 49, 49, 49, 49, 49, 49, 49, 48, 48, 48, 48, 48, 48, 48, 48, 48, 48, 48, 48, 48, 48, 48, 48, 48, 47, 47, 47, 47, 47, 47, 47, 47, 47, 47, 47, 47, 47, 47, 46, 46, 46, 46, 46, 46, 46, 46, 46, 46, 46, 45, 45, 45, 45, 45, 45, 45, 45, 45, 45, 45, 45, 45, 45, 45, 45, 45, 45, 44, 44, 44, 44, 44, 44, 44, 44, 44, 44, 44, 44, 44, 44, 44, 44, 43, 43, 43, 43, 43, 43, 43, 43, 43, 43, 43, 43, 43, 43, 42, 42, 42, 42, 42, 42, 42, 42, 42, 42, 42, 42, 42, 42, 42, 42, 42, 42, 42, 42, 42, 41, 41, 41, 41, 41, 41, 41, 41, 41, 41, 41, 41, 41, 41, 41, 41, 41, 41, 41, 41, 41, 41, 41, 41, 41, 41, 41, 41, 41, 41, 41, 41, 41, 40, 40, 40, 40, 40, 40, 40, 40, 40, 40, 40, 40, 40, 40, 40, 40, 40, 39, 39, 39, 39, 39, 39, 39, 39, 39, 39, 39, 39, 39, 39, 39, 39, 39, 39, 39, 39, 39, 39, 39, 39, 39, 38, 38, 38, 38, 38, 38, 38, 38, 38, 38, 38, 38, 38, 38, 38, 38, 38, 38, 38, 38, 38, 37, 37, 37, 37, 37, 37, 37, 37, 37, 37, 37, 37, 37, 37, 37, 37, 37, 37, 37, 37, 37, 37, 37, 37, 37, 37, 37, 37, 37, 37, 37, 37, 37, 37, 37, 36, 36, 36, 36, 36, 36, 36, 36, 36, 36, 36, 36, 36, 36, 36, 36, 36, 36, 36, 36, 36, 36, 36, 36, 36, 35, 35, 35, 35, 35, 35, 35, 35, 35, 35, 35, 35, 35, 35, 35, 35, 35, 35, 35, 35, 35, 35, 35, 35, 35, 35, 35, 35, 35, 35, 35, 35, 35, 35, 35, 35, 34, 34, 34, 34, 34, 34, 34, 34, 34, 34, 34, 34, 34, 34, 34, 34, 34, 34, 34, 34, 34, 34, 34, 34, 34, 34, 33, 33, 33, 33, 33, 33, 33, 33, 33, 33, 33, 33, 33, 33, 33, 33, 33, 33]\n"
     ]
    },
    {
     "data": {
      "text/plain": [
       "{None: 1425,\n",
       " 'access': 45,\n",
       " 'access high quality input': 168,\n",
       " 'access high-quality input': 655,\n",
       " 'additional box': 1079,\n",
       " 'additional container': 117,\n",
       " 'additional fish': 176,\n",
       " 'additional fishing net': 59,\n",
       " 'additional fresh fish': 51,\n",
       " 'additional good': 37,\n",
       " 'additional grocery': 354,\n",
       " 'additional grocery good': 285,\n",
       " 'additional grocery item': 58,\n",
       " 'additional household good': 45,\n",
       " 'additional item': 625,\n",
       " 'additional livestock': 35,\n",
       " 'additional material': 112,\n",
       " 'additional nipa': 41,\n",
       " 'additional piglet': 35,\n",
       " 'additional poultry': 97,\n",
       " 'additional prepaid airtime credit': 142,\n",
       " 'additional sack': 1658,\n",
       " 'additional spare part': 61,\n",
       " 'additional stock': 2007,\n",
       " 'additional vegetable': 57,\n",
       " 'agricultural input': 55,\n",
       " 'agricultural supply': 193,\n",
       " 'agriculture input': 41,\n",
       " 'airtime': 42,\n",
       " 'animal': 368,\n",
       " 'animal feed': 130,\n",
       " 'assorted drink': 36,\n",
       " 'baby goat': 215,\n",
       " 'baby poultry': 366,\n",
       " 'bag': 589,\n",
       " 'bale': 674,\n",
       " 'bamboo stick': 36,\n",
       " 'banana': 84,\n",
       " 'beauty product': 41,\n",
       " 'beehive': 331,\n",
       " 'beer': 35,\n",
       " 'book': 283,\n",
       " 'box': 44,\n",
       " 'buffalo': 144,\n",
       " 'building material': 1356,\n",
       " 'bundle': 849,\n",
       " 'burden': 50,\n",
       " 'business': 173,\n",
       " 'buy condiment': 45,\n",
       " 'calf': 286,\n",
       " 'car': 78,\n",
       " 'cattle': 1349,\n",
       " 'cereal': 1049,\n",
       " 'charcoal': 117,\n",
       " 'chemical': 120,\n",
       " 'chick': 188,\n",
       " 'chicken': 212,\n",
       " 'child': 849,\n",
       " 'child school fee': 41,\n",
       " 'child ’': 165,\n",
       " 'chlorine dispenser': 34,\n",
       " 'clean sanitation facility': 200,\n",
       " 'clean water source facility': 549,\n",
       " 'cloth material': 91,\n",
       " 'clothes': 721,\n",
       " 'clothing': 695,\n",
       " 'cocoa': 122,\n",
       " 'community': 172,\n",
       " 'computer': 144,\n",
       " 'computerized sewing machine': 124,\n",
       " 'condiment': 148,\n",
       " 'construction': 34,\n",
       " 'construction material': 378,\n",
       " 'container': 53,\n",
       " 'corn fertilizer': 56,\n",
       " 'cosmetic': 110,\n",
       " 'cost': 48,\n",
       " 'cost efficient maize seed': 670,\n",
       " 'cost-efficient maize seed': 299,\n",
       " 'cow': 1120,\n",
       " 'cowshed': 35,\n",
       " 'customer': 398,\n",
       " 'dairy cow': 1379,\n",
       " 'decent latrine': 102,\n",
       " 'dental treatment': 290,\n",
       " 'dried fish': 164,\n",
       " 'eco': 39,\n",
       " 'eco friendly stove': 93,\n",
       " 'eco-friendly stove': 547,\n",
       " 'education': 86,\n",
       " 'educational fee': 172,\n",
       " 'embroidery raw material': 156,\n",
       " 'fabric': 80,\n",
       " 'farm implement': 503,\n",
       " 'farm input': 2027,\n",
       " 'farm supply': 108,\n",
       " 'farming supply': 124,\n",
       " 'feed': 11866,\n",
       " 'fertilizer': 5254,\n",
       " 'fertilzers': 147,\n",
       " 'firewood': 39,\n",
       " 'fish net': 479,\n",
       " 'fishing gear': 730,\n",
       " 'fishing material': 84,\n",
       " 'fishing net': 48,\n",
       " 'food': 2085,\n",
       " 'food product': 74,\n",
       " 'food stall': 40,\n",
       " 'fresh fish': 336,\n",
       " 'fresh life toilet': 57,\n",
       " 'frozen food': 114,\n",
       " 'fruit': 350,\n",
       " 'gardening tool': 62,\n",
       " 'garment': 37,\n",
       " 'good': 34,\n",
       " 'grain': 34,\n",
       " 'green vegetable': 502,\n",
       " 'grocery': 3678,\n",
       " 'grocery good': 224,\n",
       " 'grocery item': 508,\n",
       " 'guinea pig': 36,\n",
       " 'haiti': 287,\n",
       " 'harvesting/pruning knife': 61,\n",
       " 'head': 211,\n",
       " 'health': 37,\n",
       " 'heifer': 57,\n",
       " 'high-quality input': 364,\n",
       " 'home': 34,\n",
       " 'horticulture': 53,\n",
       " 'horticulture farming': 59,\n",
       " 'house': 303,\n",
       " 'husband': 170,\n",
       " 'hybrid seed': 1725,\n",
       " 'hygienic latrine': 56,\n",
       " 'improved farm input': 2869,\n",
       " 'ingredient': 3630,\n",
       " 'innovative water treatment technology': 38,\n",
       " 'insect poison': 64,\n",
       " 'item': 4454,\n",
       " 'kilo': 34,\n",
       " 'kiosk business': 33,\n",
       " 'land': 348,\n",
       " 'laptop': 225,\n",
       " 'latrine': 1380,\n",
       " 'livestock': 466,\n",
       " 'maintenance medicine': 67,\n",
       " 'maize': 205,\n",
       " 'material': 139,\n",
       " 'medicine': 453,\n",
       " 'merchandise': 226,\n",
       " 'milk cow': 56,\n",
       " 'milking cow': 77,\n",
       " 'mineral fertilizer': 331,\n",
       " 'mobile airtime credit': 85,\n",
       " 'mobile phone': 51,\n",
       " 'mobile phone credit sale': 147,\n",
       " 'modern dairy': 75,\n",
       " 'modern dairy unit': 110,\n",
       " 'motorbike': 213,\n",
       " 'motorcycle': 448,\n",
       " 'natural remedy': 45,\n",
       " 'net': 242,\n",
       " 'new engine': 125,\n",
       " 'new laptop': 147,\n",
       " 'new sewing machine': 258,\n",
       " 'new supply': 77,\n",
       " 'nipa leaf': 82,\n",
       " 'ophthalmic treatment': 70,\n",
       " 'organic fertilizer': 410,\n",
       " 'organic manure': 35,\n",
       " 'organic oil palm field': 46,\n",
       " 'other supply': 58,\n",
       " 'paint': 34,\n",
       " 'pig': 499,\n",
       " 'piglet': 368,\n",
       " 'plywood': 123,\n",
       " 'poultry': 1061,\n",
       " 'pressure': 33,\n",
       " 'process': 41,\n",
       " 'purchase cereal': 48,\n",
       " 'quality breed': 85,\n",
       " 'quality dairy cow': 100,\n",
       " 'quantity': 208,\n",
       " 'raw material': 37,\n",
       " 'refrigerator': 49,\n",
       " 'resale': 87,\n",
       " 'restock': 86,\n",
       " 'rice': 158,\n",
       " 'sack': 1028,\n",
       " 'salt': 48,\n",
       " 'sand': 1119,\n",
       " 'sandwich': 50,\n",
       " 'sanitary toilet': 3415,\n",
       " 'sanitation': 34,\n",
       " 'school fee': 904,\n",
       " 'sea food': 145,\n",
       " 'seafood': 359,\n",
       " 'seed': 1281,\n",
       " 'seedling': 104,\n",
       " 'semester': 38,\n",
       " 'service': 68,\n",
       " 'sewing machine': 291,\n",
       " 'sheep': 66,\n",
       " 'shoe': 176,\n",
       " 'silk': 37,\n",
       " 'smokeless stove': 116,\n",
       " 'solar energy system': 56,\n",
       " 'solar home system': 197,\n",
       " 'solar lamp': 604,\n",
       " 'solar lantern': 881,\n",
       " 'solar light': 2971,\n",
       " 'solar powered recharge station': 138,\n",
       " 'solar system': 166,\n",
       " 'son ’ s university tuition': 42,\n",
       " 'spare part': 407,\n",
       " 'stock': 6256,\n",
       " 'store': 647,\n",
       " 'supply': 308,\n",
       " 'tailoring business': 41,\n",
       " 'tailoring material': 38,\n",
       " 'taro root': 45,\n",
       " 'terraclear water filter': 1139,\n",
       " 'toilet': 34,\n",
       " 'tool': 36,\n",
       " 'traditional clothing': 35,\n",
       " 'treatment': 170,\n",
       " 'tuition': 393,\n",
       " 'tuition fee': 943,\n",
       " 'university fee': 1563,\n",
       " 'university installment': 41,\n",
       " 'university tuition': 477,\n",
       " 'upcoming semester fee': 205,\n",
       " 'urgent household need': 389,\n",
       " 'used clothes': 47,\n",
       " 'variety': 697,\n",
       " 'vegetable': 327,\n",
       " 'water filter': 15408,\n",
       " 'water filtration system': 880,\n",
       " 'water pump': 52,\n",
       " 'water purification machine': 47,\n",
       " 'water tank': 101,\n",
       " 'whole coconut': 52,\n",
       " 'wide variety': 194,\n",
       " 'wife ’ s treatment': 38,\n",
       " 'wood': 64,\n",
       " 'wool wholesale': 39,\n",
       " 'worker': 159,\n",
       " 'year': 97}"
      ]
     },
     "execution_count": 193,
     "metadata": {},
     "output_type": "execute_result"
    }
   ],
   "source": [
    "uses_nouns = {}\n",
    "uses_values= uses.values.tolist()\n",
    "uses_names = uses.index.tolist()\n",
    "print(uses_list)\n",
    "for i,use in enumerate(uses_names):\n",
    "    noun = get_term(use)\n",
    "    if noun in uses_nouns:\n",
    "        uses_nouns[noun]+=uses_values[i]\n",
    "    else:\n",
    "        uses_nouns[noun]=uses_values[i]\n",
    "uses_nouns"
   ]
  },
  {
   "cell_type": "code",
   "execution_count": 231,
   "metadata": {},
   "outputs": [],
   "source": [
    "uses_export = pd.DataFrame(list(uses_nouns.items()),columns=['Loans Use','Loans Count'])\n",
    "uses_export = uses_export.set_index('Loans Use')\n",
    "uses_export = uses_export.sort_values('Loans Count',ascending=False)\n",
    "uses_export.to_csv('Loan Count by Use.csv')"
   ]
  }
 ],
 "metadata": {
  "kernelspec": {
   "display_name": "Python 3",
   "language": "python",
   "name": "python3"
  },
  "language_info": {
   "codemirror_mode": {
    "name": "ipython",
    "version": 3
   },
   "file_extension": ".py",
   "mimetype": "text/x-python",
   "name": "python",
   "nbconvert_exporter": "python",
   "pygments_lexer": "ipython3",
   "version": "3.6.4"
  }
 },
 "nbformat": 4,
 "nbformat_minor": 2
}
